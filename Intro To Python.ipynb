{
 "cells": [
  {
   "cell_type": "markdown",
   "metadata": {},
   "source": [
    "## Variable Assignment\n",
    "\n",
    "In Python, creating a variable is as simple as naming the variable, and making it `=` the value. For example:"
   ]
  },
  {
   "cell_type": "code",
   "execution_count": 10,
   "metadata": {},
   "outputs": [],
   "source": [
    "i = 1\n",
    "j = \"Hello World\""
   ]
  },
  {
   "cell_type": "markdown",
   "metadata": {},
   "source": [
    "You can print these out using the `print()` function in Python, like so:"
   ]
  },
  {
   "cell_type": "code",
   "execution_count": 11,
   "metadata": {},
   "outputs": [
    {
     "name": "stdout",
     "output_type": "stream",
     "text": [
      "1\n",
      "Hello World\n",
      "You can also print like this\n"
     ]
    }
   ],
   "source": [
    "print(i)\n",
    "print(j)\n",
    "print(\"You can also print like this\")"
   ]
  },
  {
   "cell_type": "markdown",
   "metadata": {},
   "source": [
    "## Logical Operators\n",
    "\n",
    "There are certain logical operators in Python:"
   ]
  },
  {
   "cell_type": "code",
   "execution_count": 12,
   "metadata": {},
   "outputs": [
    {
     "name": "stdout",
     "output_type": "stream",
     "text": [
      "False\n",
      "True\n",
      "False\n",
      "False\n"
     ]
    }
   ],
   "source": [
    "# `and` 'And's the two operands\n",
    "print(True and False)\n",
    "\n",
    "# `or`: 'Or's the two operands, i.e.\n",
    "print(True or False)\n",
    "\n",
    "# `==`: Checks for equality\n",
    "print(True == False)\n",
    "\n",
    "# `not`: Negates the operand\n",
    "print(not True)"
   ]
  },
  {
   "cell_type": "markdown",
   "metadata": {},
   "source": [
    "There are also mathematical operands, which are what you'd expect:"
   ]
  },
  {
   "cell_type": "code",
   "execution_count": 13,
   "metadata": {},
   "outputs": [
    {
     "name": "stdout",
     "output_type": "stream",
     "text": [
      "6\n",
      "-2\n",
      "8\n",
      "0.5\n"
     ]
    }
   ],
   "source": [
    "print(2 + 4)\n",
    "print(2 - 4)\n",
    "print(2 * 4)\n",
    "print(2 / 4)"
   ]
  },
  {
   "cell_type": "markdown",
   "metadata": {},
   "source": [
    "## Loops\n",
    "\n",
    "Using loops in Python is similar to using loops in other languages:"
   ]
  },
  {
   "cell_type": "code",
   "execution_count": 14,
   "metadata": {},
   "outputs": [
    {
     "name": "stdout",
     "output_type": "stream",
     "text": [
      "This is happening 0 times\n",
      "This is happening 1 times\n",
      "This is happening 2 times\n",
      "This is happening 3 times\n",
      "This is happening 4 times\n",
      "This is happening 5 times\n",
      "This is happening 6 times\n",
      "This is happening 7 times\n",
      "This is happening 8 times\n",
      "This is happening 9 times\n"
     ]
    }
   ],
   "source": [
    "for i in range(0, 10):\n",
    "   print(\"This is happening \" + str(i) + \" times\") "
   ]
  },
  {
   "cell_type": "markdown",
   "metadata": {},
   "source": [
    "Notice that above we typed in `str(i)`. This makes the `int` into a string, which allows us to do string concatenation"
   ]
  },
  {
   "cell_type": "code",
   "execution_count": 15,
   "metadata": {},
   "outputs": [
    {
     "name": "stdout",
     "output_type": "stream",
     "text": [
      "This is happening 0 times\n",
      "This is happening 1 times\n",
      "This is happening 2 times\n",
      "This is happening 3 times\n",
      "This is happening 4 times\n",
      "This is happening 5 times\n",
      "This is happening 6 times\n",
      "This is happening 7 times\n",
      "This is happening 8 times\n",
      "This is happening 9 times\n"
     ]
    }
   ],
   "source": [
    "i = 0\n",
    "while (i < 10):\n",
    "    print(\"This is happening \" + str(i) + \" times\") \n",
    "    i += 1"
   ]
  },
  {
   "cell_type": "markdown",
   "metadata": {},
   "source": [
    "You can also use while loops, as shown above"
   ]
  },
  {
   "cell_type": "markdown",
   "metadata": {},
   "source": [
    "## Conditionals\n",
    "\n",
    "Conditionals in Python have a specific syntax. These are `if ... elif ... else`. For example:"
   ]
  },
  {
   "cell_type": "code",
   "execution_count": 17,
   "metadata": {},
   "outputs": [
    {
     "name": "stdout",
     "output_type": "stream",
     "text": [
      "It is 2\n"
     ]
    }
   ],
   "source": [
    "i = 2\n",
    "\n",
    "# Checking to see the value of i\n",
    "if i == 2:\n",
    "    print(\"It is 2\")\n",
    "elif i == 3:\n",
    "    print(\"It is 3\")\n",
    "else:\n",
    "    print(\"It is not 2 or 3\")"
   ]
  },
  {
   "cell_type": "markdown",
   "metadata": {},
   "source": [
    "# Functions\n",
    "\n",
    "Using functions to encapsulate logic is a good idea for style purposes. You can do this using the syntax below:"
   ]
  },
  {
   "cell_type": "code",
   "execution_count": 18,
   "metadata": {},
   "outputs": [],
   "source": [
    "a = \"Cool beans\"\n",
    "\n",
    "# For a function that takes no arguments\n",
    "def method_with_no_args():\n",
    "    print(\"Hello world\")\n",
    "    \n",
    "# For a function with one argument\n",
    "def method_with_one_arg(some_string):\n",
    "    print(some_string)"
   ]
  },
  {
   "cell_type": "markdown",
   "metadata": {},
   "source": [
    "You can call the above function using a main method, like so:"
   ]
  },
  {
   "cell_type": "code",
   "execution_count": null,
   "metadata": {},
   "outputs": [],
   "source": [
    "if __name__=='__main__':\n",
    "    method_with_no_args()\n",
    "    method_with"
   ]
  },
  {
   "cell_type": "code",
   "execution_count": null,
   "metadata": {},
   "outputs": [],
   "source": []
  },
  {
   "cell_type": "code",
   "execution_count": null,
   "metadata": {},
   "outputs": [],
   "source": []
  },
  {
   "cell_type": "code",
   "execution_count": null,
   "metadata": {},
   "outputs": [],
   "source": []
  }
 ],
 "metadata": {
  "kernelspec": {
   "display_name": "Python 3",
   "language": "python",
   "name": "python3"
  },
  "language_info": {
   "codemirror_mode": {
    "name": "ipython",
    "version": 3
   },
   "file_extension": ".py",
   "mimetype": "text/x-python",
   "name": "python",
   "nbconvert_exporter": "python",
   "pygments_lexer": "ipython3",
   "version": "3.7.0"
  }
 },
 "nbformat": 4,
 "nbformat_minor": 2
}
